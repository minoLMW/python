{
  "nbformat": 4,
  "nbformat_minor": 0,
  "metadata": {
    "colab": {
      "provenance": [],
      "authorship_tag": "ABX9TyNhbZ64HAzVwO+pOx0tjp8O",
      "include_colab_link": true
    },
    "kernelspec": {
      "name": "python3",
      "display_name": "Python 3"
    },
    "language_info": {
      "name": "python"
    }
  },
  "cells": [
    {
      "cell_type": "markdown",
      "metadata": {
        "id": "view-in-github",
        "colab_type": "text"
      },
      "source": [
        "<a href=\"https://colab.research.google.com/github/minoLMW/python/blob/main/1_%EA%B5%AC%EA%B8%80%EC%BD%94%EB%9E%A9.ipynb\" target=\"_parent\"><img src=\"https://colab.research.google.com/assets/colab-badge.svg\" alt=\"Open In Colab\"/></a>"
      ]
    },
    {
      "cell_type": "markdown",
      "source": [
        "### **1. 구글 코랩이란?**\n",
        "구글 코랩(Google Colab)은 Google이 제공하는 무료 클라우드 기반 Jupyter 노트북 환경입니다. 코랩은 파이썬 코드를 쉽게 작성하고 실행할 수 있는 환경을 제공하며, 특히 머신러닝과 딥러닝 관련 실습에 많이 사용됩니다."
      ],
      "metadata": {
        "id": "rZHekG1ya2dt"
      }
    },
    {
      "cell_type": "markdown",
      "source": [
        "# **2. 구글 코랩의 주요 특징**\n",
        "1. 무료 GPU/TPU 사용: 코랩은 기본적으로 CPU 외에도 GPU(그래픽 처리 장치)와 TPU(Tensor Processing Unit)를 무료로 제공합니다. 이것은 대규모 딥러닝 모델을 훈련하거나 고속 연산을 처리하는 데 매우 유용합니다.\n",
        "\n",
        "\n",
        "2. 클라우드 기반: 모든 코드 실행과 데이터 처리가 구글 클라우드 서버에서 이루어집니다. 이는 로컬 컴퓨터의 성능에 의존하지 않기 때문에, 사양이 낮은 컴퓨터에서도 복잡한 작업을 처리할 수 있습니다.\n",
        "\n",
        "\n",
        "\n",
        "3. Jupyter 노트북과 호환: 구글 코랩은 Jupyter 노트북 환경을 기반으로 하며, 코드를 블록 단위로 실행할 수 있습니다. 또한 텍스트, 수식, 이미지 등을 삽입하여 코드를 문서화할 수 있기 때문에 수업 자료로도 활용하기 좋습니다.\n",
        "\n",
        "\n",
        "\n",
        "4. 구글 드라이브 연동: 구글 코랩은 구글 드라이브와 연동이 가능하여, 구글 드라이브에 데이터를 저장하거나 불러올 수 있습니다. 코랩에서 작업한 내용을 구글 드라이브에 저장하여 언제든지 다시 작업할 수 있습니다.\n",
        "\n",
        "\n",
        "\n",
        "5. 파이썬과 여러 라이브러리 지원: 코랩은 기본적으로 파이썬을 지원하며, 데이터 과학 및 머신러닝에 자주 사용되는 라이브러리(예: NumPy, Pandas, TensorFlow, PyTorch 등)가 미리 설치되어 있어 따로 설치할 필요가 없습니다. 필요한 패키지가 없으면 !pip install 명령어로 설치도 가능합니다.\n",
        "\n",
        "\n",
        "\n",
        "6. 세션 시간 제한: 무료 사용자는 세션이 일정 시간이 지나면 자동으로 종료되며, 작업 중이던 데이터가 사라질 수 있습니다. GPU는 세션당 약 12시간, TPU는 8시간까지 사용할 수 있으며, 세션이 종료되면 다시 시작해야 합니다.\n",
        "\n",
        "\n",
        "\n",
        "7. 리소스 제한: 무료 버전에서는 고성능의 GPU/TPU를 무제한 사용할 수는 없고, 특정 시간 이상 사용하면 제한이 걸리기도 합니다. 더 높은 성능의 리소스를 원한다면 Colab Pro 또는 Colab Pro+를 구독해야 합니다."
      ],
      "metadata": {
        "id": "rKPf4kRFblLt"
      }
    },
    {
      "cell_type": "markdown",
      "source": [
        "# **3. 코랩 시작하기**\n",
        "1. 웹 브라우저에서 [Google Colab](https://colab.research.google.com/?hl=ko) 홈페이지로 이동합니다.\n",
        "\n",
        "\n",
        "\n",
        "2. Google 계정으로 로그인합니다.\n",
        "\n",
        "\n",
        "\n",
        "3. \"새 노트북\" 버튼을 클릭 또는 상단 메뉴에서 파일-새노트를 클릭하여 새로운 노트북을 시작합니다."
      ],
      "metadata": {
        "id": "PJUuWU9vbzKl"
      }
    },
    {
      "cell_type": "markdown",
      "source": [
        "# **4. 셀의 종류**\n",
        "1. 텍스트 셀: 마크다운 문법을 사용하여 텍스트를 작성할 수 있습니다.\n",
        "\n",
        "\n",
        "\n",
        "2. 코드 셀: Python 코드를 작성하고 실행할 수 있습니다."
      ],
      "metadata": {
        "id": "yL0VRktCcSuL"
      }
    },
    {
      "cell_type": "markdown",
      "source": [
        "# **5. 셀의 삽입 방법**\n",
        "상단 툴바에 있는 + 코드 또는 + 텍스트 버튼을 클릭하여 해당 위치 위에 코드 또는 텍스트 셀을 삽입합니다.\n",
        "키보드 단축키를 사용하여 더 빠르게 셀을 삽입할 수도 있습니다.\n",
        "\n",
        "\n",
        "\n",
        "1. 위에 코드 셀 삽입: Ctrl/Cmd + M A\n",
        "\n",
        "\n",
        "\n",
        "2. 아래에 코드 셀 삽입: Ctrl/Cmd + M B\n",
        "\n",
        "\n",
        "\n",
        ">단축키는 기본적으로 텍스트 셀 삽입을 제공되지 않으므로, 먼저 코드 셀을 삽입한 후, 해당 셀을 텍스트 셀로 변경해야 합니다."
      ],
      "metadata": {
        "id": "XGkh6K4ackuv"
      }
    },
    {
      "cell_type": "markdown",
      "source": [
        "# **6. 셀 변경 방법**\n",
        "1. 코드 셀로 변경: Ctrl/Cmd + M Y\n",
        "\n",
        "\n",
        "2. 텍스트 셀로 변경: Ctrl/Cmd + M M"
      ],
      "metadata": {
        "id": "pD3JybNcdaDK"
      }
    },
    {
      "cell_type": "markdown",
      "source": [
        "# **. 셀 삭제 방법**\n",
        "1. 툴바를 사용하여 삭제하기: 상단 툴바에서 \"수정\" 메뉴를 선택하고, \"셀 삭제\"를 클릭합니다.\n",
        "\n",
        "\n",
        "\n",
        "2. 셀 상단/하단의 휴지통 아이콘을 사용하기: 선택한 셀의 상단 또는 하단에 나타나는 작은 툴바에서 휴지통 모양의 아이콘을 클릭합니다.\n",
        "\n",
        "\n",
        "\n",
        "3. 키보드 단축키 사용: Ctrl/Cmd + M D\n",
        "\n",
        "\n",
        ">위의 방법 중 하나를 사용하여 코랩에서 셀을 삭제할 수 있습니다. 삭제한 셀은 Ctrl/Cmd + M Z 단축키로 되돌릴 수 있습니다. 취소한 내용을 다시 실행하려면 Ctrl/Cmd + Shift + Y 로 실행할 수 있습니다."
      ],
      "metadata": {
        "id": "gQPZEVWleBzn"
      }
    },
    {
      "cell_type": "markdown",
      "source": [
        "# **8.셀 실행 방법**\n",
        "1. 실행 버튼 사용하기: 셀의 왼쪽에 위치한 실행 버튼(▶️ 모양)을 클릭합니다.\n",
        "\n",
        "2. 키보드 단축키 사용하기\n",
        "현재 셀 실행하고 커서를 그대로 유지: Ctrl + Enter\n",
        "현재 셀 실행하고 커서를 다음 셀로 이동: Shift + Enter\n",
        "현재 셀 실행하고 바로 아래에 새 셀 삽입: Alt + Enter\n",
        "\n",
        "3. 메뉴를 사용하여 실행하기: 상단 툴바에서 \"런타임\" 메뉴를 클릭하고 원하는 실행 옵션을 선택합니다. 예를 들어, \"셀 실행\"을 선택하면 현재 셀만 실행됩니다. \"모든 셀 실행\"을 선택하면 모든 셀이 순차적으로 실행됩니다."
      ],
      "metadata": {
        "id": "R9e77LkUetGy"
      }
    },
    {
      "cell_type": "code",
      "source": [
        "print('안녕하세요')"
      ],
      "metadata": {
        "colab": {
          "base_uri": "https://localhost:8080/"
        },
        "id": "_m5yWZA1e7lV",
        "outputId": "071041da-f1b5-46e5-e1f6-9647d4059cc7"
      },
      "execution_count": null,
      "outputs": [
        {
          "output_type": "stream",
          "name": "stdout",
          "text": [
            "안녕하세요\n"
          ]
        }
      ]
    },
    {
      "cell_type": "code",
      "source": [
        "print('반갑습니다')"
      ],
      "metadata": {
        "colab": {
          "base_uri": "https://localhost:8080/"
        },
        "id": "yb1tjEzTfOMg",
        "outputId": "a93ef965-e325-462e-fe39-98903e333576"
      },
      "execution_count": null,
      "outputs": [
        {
          "output_type": "stream",
          "name": "stdout",
          "text": [
            "반갑습니다\n"
          ]
        }
      ]
    },
    {
      "cell_type": "code",
      "source": [],
      "metadata": {
        "id": "x2v9pFuafncL"
      },
      "execution_count": null,
      "outputs": []
    }
  ]
}